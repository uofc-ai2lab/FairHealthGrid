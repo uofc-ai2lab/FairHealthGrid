{
 "cells": [
  {
   "cell_type": "code",
   "execution_count": 1,
   "id": "6d94ee7b-7299-477c-8a79-d31d78bdba16",
   "metadata": {},
   "outputs": [
    {
     "name": "stderr",
     "output_type": "stream",
     "text": [
      "C:\\Users\\enemy\\anaconda3\\Lib\\site-packages\\inFairness\\utils\\ndcg.py:37: FutureWarning: We've integrated functorch into PyTorch. As the final step of the integration, `functorch.vmap` is deprecated as of PyTorch 2.0 and will be deleted in a future version of PyTorch >= 2.3. Please use `torch.vmap` instead; see the PyTorch 2.0 release notes and/or the `torch.func` migration guide for more details https://pytorch.org/docs/main/func.migrating.html\n",
      "  vect_normalized_discounted_cumulative_gain = vmap(\n",
      "C:\\Users\\enemy\\anaconda3\\Lib\\site-packages\\inFairness\\utils\\ndcg.py:48: FutureWarning: We've integrated functorch into PyTorch. As the final step of the integration, `functorch.vmap` is deprecated as of PyTorch 2.0 and will be deleted in a future version of PyTorch >= 2.3. Please use `torch.vmap` instead; see the PyTorch 2.0 release notes and/or the `torch.func` migration guide for more details https://pytorch.org/docs/main/func.migrating.html\n",
      "  monte_carlo_vect_ndcg = vmap(vect_normalized_discounted_cumulative_gain, in_dims=(0,))\n"
     ]
    },
    {
     "name": "stdout",
     "output_type": "stream",
     "text": [
      "WARNING:tensorflow:From C:\\Users\\enemy\\OneDrive - University of Calgary\\UofC\\research\\acm_facct\\HFGSearch\\fair_bm.py:12: The name tf.disable_v2_behavior is deprecated. Please use tf.compat.v1.disable_v2_behavior instead.\n",
      "\n",
      "WARNING:tensorflow:From C:\\Users\\enemy\\anaconda3\\Lib\\site-packages\\tensorflow\\python\\compat\\v2_compat.py:98: disable_resource_variables (from tensorflow.python.ops.resource_variables_toggle) is deprecated and will be removed in a future version.\n",
      "Instructions for updating:\n",
      "non-resource variables are not supported in the long term\n"
     ]
    }
   ],
   "source": [
    "from fair_util import BMInterface, BMMetrics\n",
    "from fair_bm import BMManager\n",
    "from fair_grid import dummy_model\n",
    "import pandas as pd\n",
    "import numpy as np "
   ]
  },
  {
   "cell_type": "code",
   "execution_count": 2,
   "id": "a4ce52ee-f494-4d53-ae9b-697f0ac5d012",
   "metadata": {},
   "outputs": [],
   "source": [
    "wids_train_df = pd.read_csv('./data/wids_pre/wids_train.csv')\n",
    "wids_val_df = pd.read_csv('./data/wids_pre/wids_val.csv')\n",
    "wids_test_df = pd.read_csv('./data/wids_pre/wids_test.csv')"
   ]
  },
  {
   "cell_type": "code",
   "execution_count": 3,
   "id": "bcf5b001-264c-403f-8fe1-1c0c4967eeaa",
   "metadata": {},
   "outputs": [],
   "source": [
    "# Defining the name of the label column\n",
    "label_name = 'DiagPeriodL90D'\n",
    "# Defininf the name of the privileged group\n",
    "sensitive_attribute = ['patient_age']\n",
    "\n",
    "bmI = BMInterface(wids_train_df, wids_val_df, wids_test_df, label_name, sensitive_attribute)"
   ]
  },
  {
   "cell_type": "code",
   "execution_count": 4,
   "id": "5ef2c5a4-4639-4c67-b5db-5085ac6bc5de",
   "metadata": {},
   "outputs": [],
   "source": [
    "x_train, y_train = bmI.get_train_xy() \n",
    "x_val , y_val = bmI.get_val_xy()\n",
    "x_test, y_test = bmI.get_test_xy()"
   ]
  },
  {
   "cell_type": "markdown",
   "id": "155f5328-d825-4551-bd53-f83e1855db08",
   "metadata": {},
   "source": [
    "### Model hyperparameter tunning"
   ]
  },
  {
   "cell_type": "code",
   "execution_count": 38,
   "id": "16aa7c45-f324-44c7-b6de-bf45f9a5eba2",
   "metadata": {
    "scrolled": true
   },
   "outputs": [
    {
     "name": "stdout",
     "output_type": "stream",
     "text": [
      "0:\tlearn: 0.8103832\ttest: 0.8133125\tbest: 0.8133125 (0)\ttotal: 136ms\tremaining: 1.23s\n",
      "1:\tlearn: 0.8106061\ttest: 0.8153926\tbest: 0.8153926 (1)\ttotal: 144ms\tremaining: 578ms\n",
      "2:\tlearn: 0.8106061\ttest: 0.8153926\tbest: 0.8153926 (1)\ttotal: 152ms\tremaining: 356ms\n",
      "3:\tlearn: 0.8106061\ttest: 0.8153926\tbest: 0.8153926 (1)\ttotal: 160ms\tremaining: 240ms\n",
      "4:\tlearn: 0.8106061\ttest: 0.8153926\tbest: 0.8153926 (1)\ttotal: 166ms\tremaining: 166ms\n",
      "5:\tlearn: 0.8107175\ttest: 0.8148726\tbest: 0.8153926 (1)\ttotal: 172ms\tremaining: 114ms\n",
      "6:\tlearn: 0.8107175\ttest: 0.8148726\tbest: 0.8153926 (1)\ttotal: 178ms\tremaining: 76.1ms\n",
      "7:\tlearn: 0.8106061\ttest: 0.8153926\tbest: 0.8153926 (1)\ttotal: 182ms\tremaining: 45.4ms\n",
      "8:\tlearn: 0.8107175\ttest: 0.8148726\tbest: 0.8153926 (1)\ttotal: 186ms\tremaining: 20.7ms\n",
      "9:\tlearn: 0.8106061\ttest: 0.8153926\tbest: 0.8153926 (1)\ttotal: 191ms\tremaining: 0us\n",
      "\n",
      "bestTest = 0.8153926157\n",
      "bestIteration = 1\n",
      "\n",
      "Shrink model to first 2 iterations.\n"
     ]
    },
    {
     "data": {
      "text/plain": [
       "<catboost.core.CatBoostClassifier at 0x19e75b99760>"
      ]
     },
     "execution_count": 38,
     "metadata": {},
     "output_type": "execute_result"
    }
   ],
   "source": [
    "from catboost import CatBoostClassifier\n",
    "cat = CatBoostClassifier(eval_metric='Accuracy',\n",
    "                         depth =  4,\n",
    "                         learning_rate = 0.01,\n",
    "                         iterations = 10)\n",
    "\n",
    "cat.fit(x_train, y_train, eval_set=(x_val, y_val))\n"
   ]
  },
  {
   "cell_type": "code",
   "execution_count": 40,
   "id": "eb6926f2-6a93-455b-b540-9230169577a8",
   "metadata": {},
   "outputs": [],
   "source": [
    "y_val_pred = cat.predict_proba(x_val)\n",
    "y_test_pred = cat.predict_proba(x_test)"
   ]
  },
  {
   "cell_type": "code",
   "execution_count": 28,
   "id": "d5c797f7-41c4-453a-8e62-54eace32cbcf",
   "metadata": {},
   "outputs": [],
   "source": [
    "from sklearn.linear_model import LogisticRegression\n",
    "import numpy as np\n",
    "\n",
    "# Training Logistic Regression model\n",
    "model = LogisticRegression(solver='liblinear', random_state=42)\n",
    "\n",
    "LR_model = model.fit(x_train, y_train, sample_weight=bmI.get_train_BLD().instance_weights)\n",
    "y_val_pred = LR_model.predict_proba(x_val)\n",
    "y_test_pred = LR_model.predict_proba(x_test)"
   ]
  },
  {
   "cell_type": "code",
   "execution_count": 42,
   "id": "6fa56f74-81c0-4066-848d-3fb38ace337f",
   "metadata": {
    "scrolled": true
   },
   "outputs": [],
   "source": [
    "privileged_group = [{'patient_age': 1}]\n",
    "unprivileged_group = [{'patient_age': 0}]\n",
    "\n",
    "bmM = BMMetrics(bmI, model.classes_, y_val_pred, y_test_pred, privileged_group, unprivileged_group)"
   ]
  },
  {
   "cell_type": "code",
   "execution_count": 43,
   "id": "9eb4f7b7-f16f-4ba5-9c8f-a9f4de64a8c9",
   "metadata": {},
   "outputs": [
    {
     "name": "stdout",
     "output_type": "stream",
     "text": [
      "Balanced Accuracy 0.7667538462069989\n",
      "Accuracy 0.817047817047817\n",
      "Precision 0.7870182555780934\n",
      "Recall 0.9691923397169026\n",
      "F1 Score 0.8686567164179105\n",
      "-----------------------------\n",
      "Equal opportunity difference -0.03111858704793946\n",
      "Average odds difference -0.04789587210533275\n",
      "Statistical parity difference -0.10718029350104818\n",
      "Disparate Impact 0.8775082359988021\n",
      "Theil index 0.0633521775909673\n"
     ]
    }
   ],
   "source": [
    "report_dict = bmM.get_report()\n",
    "\n",
    "print(\"Balanced Accuracy\", report_dict['balanced_acc'])\n",
    "print(\"Accuracy\", report_dict['acc'])\n",
    "print(\"Precision\", report_dict['precision'])\n",
    "print(\"Recall\", report_dict['recall'])\n",
    "print(\"F1 Score\", report_dict['f1'])\n",
    "print('-----------------------------')    \n",
    "print(\"Equal opportunity difference\", report_dict['eq_opp_diff'])\n",
    "print(\"Average odds difference\", report_dict['avg_odd_diff'])\n",
    "print(\"Statistical parity difference\", report_dict['spd'])\n",
    "print(\"Disparate Impact\", report_dict['disparate_impact'])\n",
    "print(\"Theil index\", report_dict['theil_idx'])"
   ]
  },
  {
   "cell_type": "code",
   "execution_count": 46,
   "id": "d82b8597-1b6e-48cf-ab28-1747ee652bff",
   "metadata": {},
   "outputs": [
    {
     "data": {
      "text/plain": [
       "{'overall_score': 0.354,\n",
       " 'metric_evaluations': {'EOD': True,\n",
       "  'AOD': True,\n",
       "  'SPD': False,\n",
       "  'DI': True,\n",
       "  'TI': True},\n",
       " 'deviations': {'EOD': 0.311,\n",
       "  'AOD': 0.479,\n",
       "  'SPD': 1.072,\n",
       "  'DI': 0.612,\n",
       "  'TI': 0.253},\n",
       " 'is_fair': False}"
      ]
     },
     "execution_count": 46,
     "metadata": {},
     "output_type": "execute_result"
    }
   ],
   "source": [
    "score_dict = bmM.get_score()\n",
    "score_dict"
   ]
  },
  {
   "cell_type": "code",
   "execution_count": null,
   "id": "b25ab3fb-88d2-4e27-b630-f3fd8e5b3631",
   "metadata": {},
   "outputs": [],
   "source": [
    "bmMR = BMManager(bmI, bmM)\n",
    "\n",
    "bmMR.pos_ROC()\n",
    "\n",
    "x_train, y_train = bmI.get_train_xy() \n",
    "\n",
    "LR_model = model.fit(x_train, y_train, sample_weight=bmI.get_train_BLD().instance_weights)\n",
    "y_val_pred = LR_model.predict_proba(x_val)\n",
    "y_test_pred = LR_model.predict_proba(x_test)"
   ]
  },
  {
   "cell_type": "code",
   "execution_count": null,
   "id": "eb58f209-47c0-46aa-8fde-95ae94f53608",
   "metadata": {},
   "outputs": [],
   "source": [
    "pred_val_BLD = bmI.get_val_BLD().copy(deepcopy=True)\n",
    "pred_val_BLD.labels = y_val_pred\n",
    "\n",
    "pred_BLD = bmI.get_test_BLD().copy(deepcopy=True)\n",
    "pred_BLD.label = y_test_pred"
   ]
  },
  {
   "cell_type": "code",
   "execution_count": null,
   "id": "d3dda2f5-2c54-4c6e-869f-1f3bd5d70a26",
   "metadata": {},
   "outputs": [],
   "source": [
    "bmM.set_new_pred(y_val_pred, y_test_pred)\n",
    "bmM.get_report()"
   ]
  },
  {
   "cell_type": "code",
   "execution_count": null,
   "id": "6cb44450-ff59-4e75-804d-471c50a65f24",
   "metadata": {},
   "outputs": [],
   "source": [
    "score_dict = bmM.get_score()\n",
    "score_dict"
   ]
  },
  {
   "cell_type": "code",
   "execution_count": null,
   "id": "638703fe-a654-4a0c-8ffe-1539ddb13ab1",
   "metadata": {},
   "outputs": [],
   "source": [
    "bmI.restore_BLD()"
   ]
  },
  {
   "cell_type": "code",
   "execution_count": null,
   "id": "9c489717-d327-41b3-90e5-4278a273b1cf",
   "metadata": {},
   "outputs": [],
   "source": []
  }
 ],
 "metadata": {
  "kernelspec": {
   "display_name": "Python 3 (ipykernel)",
   "language": "python",
   "name": "python3"
  },
  "language_info": {
   "codemirror_mode": {
    "name": "ipython",
    "version": 3
   },
   "file_extension": ".py",
   "mimetype": "text/x-python",
   "name": "python",
   "nbconvert_exporter": "python",
   "pygments_lexer": "ipython3",
   "version": "3.12.7"
  }
 },
 "nbformat": 4,
 "nbformat_minor": 5
}
